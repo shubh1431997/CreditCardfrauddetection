{
 "cells": [
  {
   "cell_type": "code",
   "execution_count": 1,
   "metadata": {},
   "outputs": [],
   "source": [
    "# importing all required libraries\n",
    "import numpy as np\n",
    "import pandas as pd\n",
    "import matplotlib.pyplot as plt\n",
    "import seaborn as sns\n",
    "import warnings \n",
    "warnings.filterwarnings(\"ignore\")"
   ]
  },
  {
   "cell_type": "code",
   "execution_count": 2,
   "metadata": {},
   "outputs": [],
   "source": [
    "# import all required packages \n",
    "from sklearn.model_selection import train_test_split\n",
    "from sklearn.linear_model import LogisticRegression \n",
    "from sklearn.metrics import confusion_matrix,classification_report \n",
    "from sklearn.tree import DecisionTreeClassifier\n",
    "from sklearn.svm import LinearSVC\n",
    "from sklearn.svm import SVC"
   ]
  },
  {
   "cell_type": "code",
   "execution_count": 3,
   "metadata": {},
   "outputs": [
    {
     "data": {
      "text/html": [
       "<div>\n",
       "<style scoped>\n",
       "    .dataframe tbody tr th:only-of-type {\n",
       "        vertical-align: middle;\n",
       "    }\n",
       "\n",
       "    .dataframe tbody tr th {\n",
       "        vertical-align: top;\n",
       "    }\n",
       "\n",
       "    .dataframe thead th {\n",
       "        text-align: right;\n",
       "    }\n",
       "</style>\n",
       "<table border=\"1\" class=\"dataframe\">\n",
       "  <thead>\n",
       "    <tr style=\"text-align: right;\">\n",
       "      <th></th>\n",
       "      <th>Time</th>\n",
       "      <th>V1</th>\n",
       "      <th>V2</th>\n",
       "      <th>V3</th>\n",
       "      <th>V4</th>\n",
       "      <th>V5</th>\n",
       "      <th>V6</th>\n",
       "      <th>V7</th>\n",
       "      <th>V8</th>\n",
       "      <th>V9</th>\n",
       "      <th>...</th>\n",
       "      <th>V21</th>\n",
       "      <th>V22</th>\n",
       "      <th>V23</th>\n",
       "      <th>V24</th>\n",
       "      <th>V25</th>\n",
       "      <th>V26</th>\n",
       "      <th>V27</th>\n",
       "      <th>V28</th>\n",
       "      <th>Amount</th>\n",
       "      <th>Class</th>\n",
       "    </tr>\n",
       "  </thead>\n",
       "  <tbody>\n",
       "    <tr>\n",
       "      <th>0</th>\n",
       "      <td>0.0</td>\n",
       "      <td>-1.359807</td>\n",
       "      <td>-0.072781</td>\n",
       "      <td>2.536347</td>\n",
       "      <td>1.378155</td>\n",
       "      <td>-0.338321</td>\n",
       "      <td>0.462388</td>\n",
       "      <td>0.239599</td>\n",
       "      <td>0.098698</td>\n",
       "      <td>0.363787</td>\n",
       "      <td>...</td>\n",
       "      <td>-0.018307</td>\n",
       "      <td>0.277838</td>\n",
       "      <td>-0.110474</td>\n",
       "      <td>0.066928</td>\n",
       "      <td>0.128539</td>\n",
       "      <td>-0.189115</td>\n",
       "      <td>0.133558</td>\n",
       "      <td>-0.021053</td>\n",
       "      <td>149.62</td>\n",
       "      <td>0</td>\n",
       "    </tr>\n",
       "    <tr>\n",
       "      <th>1</th>\n",
       "      <td>0.0</td>\n",
       "      <td>1.191857</td>\n",
       "      <td>0.266151</td>\n",
       "      <td>0.166480</td>\n",
       "      <td>0.448154</td>\n",
       "      <td>0.060018</td>\n",
       "      <td>-0.082361</td>\n",
       "      <td>-0.078803</td>\n",
       "      <td>0.085102</td>\n",
       "      <td>-0.255425</td>\n",
       "      <td>...</td>\n",
       "      <td>-0.225775</td>\n",
       "      <td>-0.638672</td>\n",
       "      <td>0.101288</td>\n",
       "      <td>-0.339846</td>\n",
       "      <td>0.167170</td>\n",
       "      <td>0.125895</td>\n",
       "      <td>-0.008983</td>\n",
       "      <td>0.014724</td>\n",
       "      <td>2.69</td>\n",
       "      <td>0</td>\n",
       "    </tr>\n",
       "    <tr>\n",
       "      <th>2</th>\n",
       "      <td>1.0</td>\n",
       "      <td>-1.358354</td>\n",
       "      <td>-1.340163</td>\n",
       "      <td>1.773209</td>\n",
       "      <td>0.379780</td>\n",
       "      <td>-0.503198</td>\n",
       "      <td>1.800499</td>\n",
       "      <td>0.791461</td>\n",
       "      <td>0.247676</td>\n",
       "      <td>-1.514654</td>\n",
       "      <td>...</td>\n",
       "      <td>0.247998</td>\n",
       "      <td>0.771679</td>\n",
       "      <td>0.909412</td>\n",
       "      <td>-0.689281</td>\n",
       "      <td>-0.327642</td>\n",
       "      <td>-0.139097</td>\n",
       "      <td>-0.055353</td>\n",
       "      <td>-0.059752</td>\n",
       "      <td>378.66</td>\n",
       "      <td>0</td>\n",
       "    </tr>\n",
       "    <tr>\n",
       "      <th>3</th>\n",
       "      <td>1.0</td>\n",
       "      <td>-0.966272</td>\n",
       "      <td>-0.185226</td>\n",
       "      <td>1.792993</td>\n",
       "      <td>-0.863291</td>\n",
       "      <td>-0.010309</td>\n",
       "      <td>1.247203</td>\n",
       "      <td>0.237609</td>\n",
       "      <td>0.377436</td>\n",
       "      <td>-1.387024</td>\n",
       "      <td>...</td>\n",
       "      <td>-0.108300</td>\n",
       "      <td>0.005274</td>\n",
       "      <td>-0.190321</td>\n",
       "      <td>-1.175575</td>\n",
       "      <td>0.647376</td>\n",
       "      <td>-0.221929</td>\n",
       "      <td>0.062723</td>\n",
       "      <td>0.061458</td>\n",
       "      <td>123.50</td>\n",
       "      <td>0</td>\n",
       "    </tr>\n",
       "    <tr>\n",
       "      <th>4</th>\n",
       "      <td>2.0</td>\n",
       "      <td>-1.158233</td>\n",
       "      <td>0.877737</td>\n",
       "      <td>1.548718</td>\n",
       "      <td>0.403034</td>\n",
       "      <td>-0.407193</td>\n",
       "      <td>0.095921</td>\n",
       "      <td>0.592941</td>\n",
       "      <td>-0.270533</td>\n",
       "      <td>0.817739</td>\n",
       "      <td>...</td>\n",
       "      <td>-0.009431</td>\n",
       "      <td>0.798278</td>\n",
       "      <td>-0.137458</td>\n",
       "      <td>0.141267</td>\n",
       "      <td>-0.206010</td>\n",
       "      <td>0.502292</td>\n",
       "      <td>0.219422</td>\n",
       "      <td>0.215153</td>\n",
       "      <td>69.99</td>\n",
       "      <td>0</td>\n",
       "    </tr>\n",
       "  </tbody>\n",
       "</table>\n",
       "<p>5 rows × 31 columns</p>\n",
       "</div>"
      ],
      "text/plain": [
       "   Time        V1        V2        V3        V4        V5        V6        V7  \\\n",
       "0   0.0 -1.359807 -0.072781  2.536347  1.378155 -0.338321  0.462388  0.239599   \n",
       "1   0.0  1.191857  0.266151  0.166480  0.448154  0.060018 -0.082361 -0.078803   \n",
       "2   1.0 -1.358354 -1.340163  1.773209  0.379780 -0.503198  1.800499  0.791461   \n",
       "3   1.0 -0.966272 -0.185226  1.792993 -0.863291 -0.010309  1.247203  0.237609   \n",
       "4   2.0 -1.158233  0.877737  1.548718  0.403034 -0.407193  0.095921  0.592941   \n",
       "\n",
       "         V8        V9  ...       V21       V22       V23       V24       V25  \\\n",
       "0  0.098698  0.363787  ... -0.018307  0.277838 -0.110474  0.066928  0.128539   \n",
       "1  0.085102 -0.255425  ... -0.225775 -0.638672  0.101288 -0.339846  0.167170   \n",
       "2  0.247676 -1.514654  ...  0.247998  0.771679  0.909412 -0.689281 -0.327642   \n",
       "3  0.377436 -1.387024  ... -0.108300  0.005274 -0.190321 -1.175575  0.647376   \n",
       "4 -0.270533  0.817739  ... -0.009431  0.798278 -0.137458  0.141267 -0.206010   \n",
       "\n",
       "        V26       V27       V28  Amount  Class  \n",
       "0 -0.189115  0.133558 -0.021053  149.62      0  \n",
       "1  0.125895 -0.008983  0.014724    2.69      0  \n",
       "2 -0.139097 -0.055353 -0.059752  378.66      0  \n",
       "3 -0.221929  0.062723  0.061458  123.50      0  \n",
       "4  0.502292  0.219422  0.215153   69.99      0  \n",
       "\n",
       "[5 rows x 31 columns]"
      ]
     },
     "execution_count": 3,
     "metadata": {},
     "output_type": "execute_result"
    }
   ],
   "source": [
    "#to load the dataset\n",
    "df=pd.read_csv(\"creditcard.csv\")\n",
    "df.head()"
   ]
  },
  {
   "cell_type": "code",
   "execution_count": 4,
   "metadata": {},
   "outputs": [
    {
     "data": {
      "text/plain": [
       "(284807, 31)"
      ]
     },
     "execution_count": 4,
     "metadata": {},
     "output_type": "execute_result"
    }
   ],
   "source": [
    "# checking rows and columns\n",
    "df.shape"
   ]
  },
  {
   "cell_type": "code",
   "execution_count": 5,
   "metadata": {},
   "outputs": [
    {
     "name": "stdout",
     "output_type": "stream",
     "text": [
      "<class 'pandas.core.frame.DataFrame'>\n",
      "RangeIndex: 284807 entries, 0 to 284806\n",
      "Data columns (total 31 columns):\n",
      " #   Column  Non-Null Count   Dtype  \n",
      "---  ------  --------------   -----  \n",
      " 0   Time    284807 non-null  float64\n",
      " 1   V1      284807 non-null  float64\n",
      " 2   V2      284807 non-null  float64\n",
      " 3   V3      284807 non-null  float64\n",
      " 4   V4      284807 non-null  float64\n",
      " 5   V5      284807 non-null  float64\n",
      " 6   V6      284807 non-null  float64\n",
      " 7   V7      284807 non-null  float64\n",
      " 8   V8      284807 non-null  float64\n",
      " 9   V9      284807 non-null  float64\n",
      " 10  V10     284807 non-null  float64\n",
      " 11  V11     284807 non-null  float64\n",
      " 12  V12     284807 non-null  float64\n",
      " 13  V13     284807 non-null  float64\n",
      " 14  V14     284807 non-null  float64\n",
      " 15  V15     284807 non-null  float64\n",
      " 16  V16     284807 non-null  float64\n",
      " 17  V17     284807 non-null  float64\n",
      " 18  V18     284807 non-null  float64\n",
      " 19  V19     284807 non-null  float64\n",
      " 20  V20     284807 non-null  float64\n",
      " 21  V21     284807 non-null  float64\n",
      " 22  V22     284807 non-null  float64\n",
      " 23  V23     284807 non-null  float64\n",
      " 24  V24     284807 non-null  float64\n",
      " 25  V25     284807 non-null  float64\n",
      " 26  V26     284807 non-null  float64\n",
      " 27  V27     284807 non-null  float64\n",
      " 28  V28     284807 non-null  float64\n",
      " 29  Amount  284807 non-null  float64\n",
      " 30  Class   284807 non-null  int64  \n",
      "dtypes: float64(30), int64(1)\n",
      "memory usage: 67.4 MB\n"
     ]
    }
   ],
   "source": [
    "# checking info datatypes\n",
    "df.info()"
   ]
  },
  {
   "cell_type": "code",
   "execution_count": 6,
   "metadata": {},
   "outputs": [
    {
     "data": {
      "image/png": "[encoded data removed]",
      "text/plain": [
       "<Figure size 432x288 with 2 Axes>"
      ]
     },
     "metadata": {
      "needs_background": "light"
     },
     "output_type": "display_data"
    }
   ],
   "source": [
    "# heatmap for visualize & checking null values in dataset\n",
    "sns.heatmap(df.isnull())\n",
    "plt.show()"
   ]
  },
  {
   "cell_type": "code",
   "execution_count": 7,
   "metadata": {},
   "outputs": [
    {
     "data": {
      "image/png": "[encoded data removed]",
      "text/plain": [
       "<Figure size 1440x1440 with 2 Axes>"
      ]
     },
     "metadata": {
      "needs_background": "light"
     },
     "output_type": "display_data"
    }
   ],
   "source": [
    "# heatmap correlations \n",
    "plt.figure(figsize=(20,20))\n",
    "sns.heatmap(df.corr(),annot=True)\n",
    "plt.show()\n"
   ]
  },
  {
   "cell_type": "code",
   "execution_count": 8,
   "metadata": {},
   "outputs": [
    {
     "data": {
      "image/png": "[encoded data removed]",
      "text/plain": [
       "<Figure size 432x288 with 1 Axes>"
      ]
     },
     "metadata": {
      "needs_background": "light"
     },
     "output_type": "display_data"
    }
   ],
   "source": [
    "sns.boxplot(data=df,x=\"Class\",y=\"Amount\")\n",
    "plt.show()"
   ]
  },
  {
   "cell_type": "code",
   "execution_count": 9,
   "metadata": {},
   "outputs": [],
   "source": [
    "#create a function\n",
    "def create_model(model):\n",
    "    model.fit(x_train,y_train)\n",
    "    y_pred=model.predict(x_test)\n",
    "    print(classification_report(y_test,y_pred))\n",
    "    print(\"confusion_matrix\")\n",
    "    print(confusion_matrix(y_test,y_pred))\n",
    "    return model"
   ]
  },
  {
   "cell_type": "code",
   "execution_count": 10,
   "metadata": {},
   "outputs": [],
   "source": [
    "x=df.drop(\"Class\",axis=1) #select all input features except class\n",
    "y=df[\"Class\"] #select output "
   ]
  },
  {
   "cell_type": "code",
   "execution_count": 11,
   "metadata": {},
   "outputs": [],
   "source": [
    "#Train_test_split\n",
    "x_train,x_test,y_train,y_test=train_test_split(x,y,test_size=0.3,random_state=1)"
   ]
  },
  {
   "cell_type": "code",
   "execution_count": 12,
   "metadata": {},
   "outputs": [],
   "source": [
    "# create object of Logistic Regression class\n",
    "lr=LogisticRegression() "
   ]
  },
  {
   "cell_type": "code",
   "execution_count": 13,
   "metadata": {},
   "outputs": [
    {
     "name": "stdout",
     "output_type": "stream",
     "text": [
      "              precision    recall  f1-score   support\n",
      "\n",
      "           0       1.00      1.00      1.00     85308\n",
      "           1       0.71      0.62      0.66       135\n",
      "\n",
      "    accuracy                           1.00     85443\n",
      "   macro avg       0.85      0.81      0.83     85443\n",
      "weighted avg       1.00      1.00      1.00     85443\n",
      "\n",
      "confusion_matrix\n",
      "[[85273    35]\n",
      " [   51    84]]\n"
     ]
    }
   ],
   "source": [
    "#call create_model()\n",
    "lr=create_model(lr) "
   ]
  },
  {
   "cell_type": "code",
   "execution_count": 14,
   "metadata": {},
   "outputs": [],
   "source": [
    "#Create the object of DecisionTreeClassifier  class for gini index\n",
    "dt=DecisionTreeClassifier()"
   ]
  },
  {
   "cell_type": "code",
   "execution_count": 15,
   "metadata": {},
   "outputs": [
    {
     "name": "stdout",
     "output_type": "stream",
     "text": [
      "              precision    recall  f1-score   support\n",
      "\n",
      "           0       1.00      1.00      1.00     85308\n",
      "           1       0.71      0.73      0.72       135\n",
      "\n",
      "    accuracy                           1.00     85443\n",
      "   macro avg       0.85      0.86      0.86     85443\n",
      "weighted avg       1.00      1.00      1.00     85443\n",
      "\n",
      "confusion_matrix\n",
      "[[85267    41]\n",
      " [   37    98]]\n"
     ]
    }
   ],
   "source": [
    "#call create_model()\n",
    "dt=create_model(dt) "
   ]
  },
  {
   "cell_type": "code",
   "execution_count": 16,
   "metadata": {},
   "outputs": [],
   "source": [
    "#Create the object of DecisionTreeClassifier  class for gini index \n",
    "# purning technique max_depth\n",
    "dt=DecisionTreeClassifier(max_depth=5)"
   ]
  },
  {
   "cell_type": "code",
   "execution_count": 17,
   "metadata": {},
   "outputs": [
    {
     "name": "stdout",
     "output_type": "stream",
     "text": [
      "              precision    recall  f1-score   support\n",
      "\n",
      "           0       1.00      1.00      1.00     85308\n",
      "           1       0.89      0.72      0.80       135\n",
      "\n",
      "    accuracy                           1.00     85443\n",
      "   macro avg       0.94      0.86      0.90     85443\n",
      "weighted avg       1.00      1.00      1.00     85443\n",
      "\n",
      "confusion_matrix\n",
      "[[85296    12]\n",
      " [   38    97]]\n"
     ]
    }
   ],
   "source": [
    "#call create_model()\n",
    "dt=create_model(dt) "
   ]
  },
  {
   "cell_type": "code",
   "execution_count": 18,
   "metadata": {},
   "outputs": [],
   "source": [
    "dt=DecisionTreeClassifier(min_samples_leaf=45)#Create the object of DecisionTreeClassifier  class for gini index \n",
    "# purning technique min_samples_leaf"
   ]
  },
  {
   "cell_type": "code",
   "execution_count": 19,
   "metadata": {},
   "outputs": [
    {
     "name": "stdout",
     "output_type": "stream",
     "text": [
      "              precision    recall  f1-score   support\n",
      "\n",
      "           0       1.00      1.00      1.00     85308\n",
      "           1       0.89      0.63      0.74       135\n",
      "\n",
      "    accuracy                           1.00     85443\n",
      "   macro avg       0.94      0.81      0.87     85443\n",
      "weighted avg       1.00      1.00      1.00     85443\n",
      "\n",
      "confusion_matrix\n",
      "[[85297    11]\n",
      " [   50    85]]\n"
     ]
    }
   ],
   "source": [
    "#call create_model()\n",
    "dt=create_model(dt) "
   ]
  },
  {
   "cell_type": "code",
   "execution_count": 20,
   "metadata": {},
   "outputs": [],
   "source": [
    "dt=DecisionTreeClassifier(criterion=\"entropy\")\n",
    "#Create the object of DecisionTreeClassifier  class for entropy \n"
   ]
  },
  {
   "cell_type": "code",
   "execution_count": 21,
   "metadata": {},
   "outputs": [
    {
     "name": "stdout",
     "output_type": "stream",
     "text": [
      "              precision    recall  f1-score   support\n",
      "\n",
      "           0       1.00      1.00      1.00     85308\n",
      "           1       0.73      0.73      0.73       135\n",
      "\n",
      "    accuracy                           1.00     85443\n",
      "   macro avg       0.87      0.87      0.87     85443\n",
      "weighted avg       1.00      1.00      1.00     85443\n",
      "\n",
      "confusion_matrix\n",
      "[[85272    36]\n",
      " [   36    99]]\n"
     ]
    }
   ],
   "source": [
    "#call create_model()\n",
    "dt=create_model(dt) "
   ]
  },
  {
   "cell_type": "code",
   "execution_count": 22,
   "metadata": {},
   "outputs": [],
   "source": [
    "dt=DecisionTreeClassifier(criterion=\"entropy\",max_depth=5)#Create the object of DecisionTreeClassifier  class for entropy \n",
    "# purning technique max_depth"
   ]
  },
  {
   "cell_type": "code",
   "execution_count": 23,
   "metadata": {},
   "outputs": [
    {
     "name": "stdout",
     "output_type": "stream",
     "text": [
      "              precision    recall  f1-score   support\n",
      "\n",
      "           0       1.00      1.00      1.00     85308\n",
      "           1       0.90      0.70      0.79       135\n",
      "\n",
      "    accuracy                           1.00     85443\n",
      "   macro avg       0.95      0.85      0.89     85443\n",
      "weighted avg       1.00      1.00      1.00     85443\n",
      "\n",
      "confusion_matrix\n",
      "[[85297    11]\n",
      " [   40    95]]\n"
     ]
    }
   ],
   "source": [
    "#call create_model()\n",
    "dt=create_model(dt) "
   ]
  },
  {
   "cell_type": "code",
   "execution_count": 24,
   "metadata": {},
   "outputs": [],
   "source": [
    "dt=DecisionTreeClassifier(criterion=\"entropy\",min_samples_leaf=45)#Create the object of DecisionTreeClassifier  class for entropy \n",
    "# purning technique min_samples_leaf"
   ]
  },
  {
   "cell_type": "code",
   "execution_count": 25,
   "metadata": {
    "scrolled": true
   },
   "outputs": [
    {
     "name": "stdout",
     "output_type": "stream",
     "text": [
      "              precision    recall  f1-score   support\n",
      "\n",
      "           0       1.00      1.00      1.00     85308\n",
      "           1       0.88      0.68      0.77       135\n",
      "\n",
      "    accuracy                           1.00     85443\n",
      "   macro avg       0.94      0.84      0.88     85443\n",
      "weighted avg       1.00      1.00      1.00     85443\n",
      "\n",
      "confusion_matrix\n",
      "[[85295    13]\n",
      " [   43    92]]\n"
     ]
    }
   ],
   "source": [
    "#call create_model()\n",
    "dt=create_model(dt) "
   ]
  },
  {
   "cell_type": "code",
   "execution_count": 26,
   "metadata": {},
   "outputs": [
    {
     "data": {
      "image/png": "[encoded data removed]",
      "text/plain": [
       "<Figure size 432x288 with 1 Axes>"
      ]
     },
     "metadata": {
      "needs_background": "light"
     },
     "output_type": "display_data"
    }
   ],
   "source": [
    "#BARGRAPH\n",
    "sns.countplot(data=df,x=\"Class\")\n",
    "c=df[\"Class\"].value_counts()\n",
    "plt.yticks(c)\n",
    "plt.show()"
   ]
  },
  {
   "cell_type": "code",
   "execution_count": 27,
   "metadata": {},
   "outputs": [],
   "source": [
    "# calling imblearn package for RandomUnderSampler & RandomOverSampler\n",
    "from imblearn.under_sampling import RandomUnderSampler\n",
    "from imblearn.over_sampling import RandomOverSampler"
   ]
  },
  {
   "cell_type": "code",
   "execution_count": 28,
   "metadata": {},
   "outputs": [],
   "source": [
    "#create object of  RandomOverSampler() class\n",
    "ros=RandomOverSampler()"
   ]
  },
  {
   "cell_type": "code",
   "execution_count": 29,
   "metadata": {},
   "outputs": [],
   "source": [
    "#create object of RandomUnderSampler class\n",
    "rus=RandomUnderSampler()"
   ]
  },
  {
   "cell_type": "code",
   "execution_count": 30,
   "metadata": {},
   "outputs": [],
   "source": [
    "\n",
    "x=df.drop(\"Class\",axis=1) #input variable\n",
    "y=df[\"Class\"] #out variable"
   ]
  },
  {
   "cell_type": "code",
   "execution_count": 31,
   "metadata": {},
   "outputs": [
    {
     "data": {
      "text/plain": [
       "0    199007\n",
       "1       357\n",
       "Name: Class, dtype: int64"
      ]
     },
     "execution_count": 31,
     "metadata": {},
     "output_type": "execute_result"
    }
   ],
   "source": [
    "#before apply randomoversampler\n",
    "pd.Series(y_train).value_counts()#check if not balance"
   ]
  },
  {
   "cell_type": "code",
   "execution_count": 32,
   "metadata": {},
   "outputs": [],
   "source": [
    "#apply randomoversampling for balance\n",
    "x_train1,y_train1=ros.fit_resample(x_train,y_train)"
   ]
  },
  {
   "cell_type": "code",
   "execution_count": 33,
   "metadata": {},
   "outputs": [
    {
     "data": {
      "text/plain": [
       "1    199007\n",
       "0    199007\n",
       "Name: Class, dtype: int64"
      ]
     },
     "execution_count": 33,
     "metadata": {},
     "output_type": "execute_result"
    }
   ],
   "source": [
    "#after apply randomoversampler\n",
    "pd.Series(y_train1).value_counts()"
   ]
  },
  {
   "cell_type": "code",
   "execution_count": 34,
   "metadata": {},
   "outputs": [],
   "source": [
    "# create object for LogisticRegression \n",
    "lr=LogisticRegression()"
   ]
  },
  {
   "cell_type": "code",
   "execution_count": 35,
   "metadata": {},
   "outputs": [
    {
     "data": {
      "text/plain": [
       "LogisticRegression()"
      ]
     },
     "execution_count": 35,
     "metadata": {},
     "output_type": "execute_result"
    }
   ],
   "source": [
    "#Train the model\n",
    "lr.fit(x_train1,y_train1)"
   ]
  },
  {
   "cell_type": "code",
   "execution_count": 36,
   "metadata": {},
   "outputs": [
    {
     "data": {
      "text/plain": [
       "0    85308\n",
       "1      135\n",
       "Name: Class, dtype: int64"
      ]
     },
     "execution_count": 36,
     "metadata": {},
     "output_type": "execute_result"
    }
   ],
   "source": [
    "#before apply randomoversampler\n",
    "pd.Series(y_test).value_counts()#check if not balance"
   ]
  },
  {
   "cell_type": "code",
   "execution_count": 37,
   "metadata": {},
   "outputs": [],
   "source": [
    "#apply randomoversampling for balance\n",
    "x_test1,y_test1=ros.fit_resample(x_test,y_test)"
   ]
  },
  {
   "cell_type": "code",
   "execution_count": 38,
   "metadata": {},
   "outputs": [
    {
     "data": {
      "text/plain": [
       "1    85308\n",
       "0    85308\n",
       "Name: Class, dtype: int64"
      ]
     },
     "execution_count": 38,
     "metadata": {},
     "output_type": "execute_result"
    }
   ],
   "source": [
    "#after apply randomoversampler\n",
    "pd.Series(y_test1).value_counts() #check if not balance"
   ]
  },
  {
   "cell_type": "code",
   "execution_count": 39,
   "metadata": {},
   "outputs": [],
   "source": [
    "#Test the model\n",
    "lr=LogisticRegression() "
   ]
  },
  {
   "cell_type": "code",
   "execution_count": 40,
   "metadata": {},
   "outputs": [
    {
     "data": {
      "text/plain": [
       "LogisticRegression()"
      ]
     },
     "execution_count": 40,
     "metadata": {},
     "output_type": "execute_result"
    }
   ],
   "source": [
    "#train the model\n",
    "lr.fit(x_test1,y_test1)"
   ]
  },
  {
   "cell_type": "code",
   "execution_count": 41,
   "metadata": {},
   "outputs": [],
   "source": [
    "#Test the model\n",
    "y_pred=lr.predict(x_test1)"
   ]
  },
  {
   "cell_type": "code",
   "execution_count": 42,
   "metadata": {},
   "outputs": [
    {
     "name": "stdout",
     "output_type": "stream",
     "text": [
      "              precision    recall  f1-score   support\n",
      "\n",
      "           0       0.94      0.88      0.91     90772\n",
      "           1       0.88      0.94      0.90     79844\n",
      "\n",
      "    accuracy                           0.91    170616\n",
      "   macro avg       0.91      0.91      0.91    170616\n",
      "weighted avg       0.91      0.91      0.91    170616\n",
      "\n"
     ]
    }
   ],
   "source": [
    "# checking for classification report \n",
    "print(classification_report(y_pred,y_test1))"
   ]
  },
  {
   "cell_type": "code",
   "execution_count": 43,
   "metadata": {},
   "outputs": [],
   "source": [
    "#create object\n",
    "dtc=DecisionTreeClassifier(max_depth=5) "
   ]
  },
  {
   "cell_type": "code",
   "execution_count": 44,
   "metadata": {},
   "outputs": [
    {
     "data": {
      "text/plain": [
       "DecisionTreeClassifier(max_depth=5)"
      ]
     },
     "execution_count": 44,
     "metadata": {},
     "output_type": "execute_result"
    }
   ],
   "source": [
    "# train the model\n",
    "dtc.fit(x_train1,y_train1)"
   ]
  },
  {
   "cell_type": "code",
   "execution_count": 45,
   "metadata": {},
   "outputs": [],
   "source": [
    "#create object\n",
    "dtc=DecisionTreeClassifier(max_depth=5) "
   ]
  },
  {
   "cell_type": "code",
   "execution_count": 46,
   "metadata": {},
   "outputs": [
    {
     "data": {
      "text/plain": [
       "DecisionTreeClassifier(max_depth=5)"
      ]
     },
     "execution_count": 46,
     "metadata": {},
     "output_type": "execute_result"
    }
   ],
   "source": [
    "dtc.fit(x_test1,y_test1)"
   ]
  },
  {
   "cell_type": "code",
   "execution_count": 47,
   "metadata": {},
   "outputs": [],
   "source": [
    "#test the model\n",
    "y_pred=dtc.predict(x_test1)"
   ]
  },
  {
   "cell_type": "code",
   "execution_count": 48,
   "metadata": {},
   "outputs": [
    {
     "name": "stdout",
     "output_type": "stream",
     "text": [
      "              precision    recall  f1-score   support\n",
      "\n",
      "           0       0.99      0.99      0.99     85572\n",
      "           1       0.99      0.99      0.99     85044\n",
      "\n",
      "    accuracy                           0.99    170616\n",
      "   macro avg       0.99      0.99      0.99    170616\n",
      "weighted avg       0.99      0.99      0.99    170616\n",
      "\n"
     ]
    }
   ],
   "source": [
    "# checking for classification report \n",
    "print(classification_report(y_pred,y_test1) )"
   ]
  },
  {
   "cell_type": "code",
   "execution_count": 49,
   "metadata": {},
   "outputs": [],
   "source": [
    "#create object\n",
    "dtc=DecisionTreeClassifier(min_samples_leaf=45) "
   ]
  },
  {
   "cell_type": "code",
   "execution_count": 50,
   "metadata": {},
   "outputs": [
    {
     "data": {
      "text/plain": [
       "DecisionTreeClassifier(min_samples_leaf=45)"
      ]
     },
     "execution_count": 50,
     "metadata": {},
     "output_type": "execute_result"
    }
   ],
   "source": [
    "# train the model\n",
    "dtc.fit(x_train1,y_train1)"
   ]
  },
  {
   "cell_type": "code",
   "execution_count": 51,
   "metadata": {},
   "outputs": [],
   "source": [
    "#create object\n",
    "dtc=DecisionTreeClassifier(min_samples_leaf=45) "
   ]
  },
  {
   "cell_type": "code",
   "execution_count": 52,
   "metadata": {},
   "outputs": [
    {
     "data": {
      "text/plain": [
       "DecisionTreeClassifier(min_samples_leaf=45)"
      ]
     },
     "execution_count": 52,
     "metadata": {},
     "output_type": "execute_result"
    }
   ],
   "source": [
    "dtc.fit(x_test1,y_test1)"
   ]
  },
  {
   "cell_type": "code",
   "execution_count": 53,
   "metadata": {},
   "outputs": [],
   "source": [
    "#Test the model\n",
    "y_pred=dtc.predict(x_test1)"
   ]
  },
  {
   "cell_type": "code",
   "execution_count": 54,
   "metadata": {},
   "outputs": [
    {
     "name": "stdout",
     "output_type": "stream",
     "text": [
      "              precision    recall  f1-score   support\n",
      "\n",
      "           0       1.00      1.00      1.00     85098\n",
      "           1       1.00      1.00      1.00     85518\n",
      "\n",
      "    accuracy                           1.00    170616\n",
      "   macro avg       1.00      1.00      1.00    170616\n",
      "weighted avg       1.00      1.00      1.00    170616\n",
      "\n"
     ]
    }
   ],
   "source": [
    "# checking for classification report \n",
    "print(classification_report(y_pred,y_test1) )"
   ]
  },
  {
   "cell_type": "code",
   "execution_count": 55,
   "metadata": {},
   "outputs": [],
   "source": [
    "#create object\n",
    "dtc=DecisionTreeClassifier(min_samples_leaf=45,criterion=\"entropy\") "
   ]
  },
  {
   "cell_type": "code",
   "execution_count": 56,
   "metadata": {},
   "outputs": [
    {
     "data": {
      "text/plain": [
       "DecisionTreeClassifier(criterion='entropy', min_samples_leaf=45)"
      ]
     },
     "execution_count": 56,
     "metadata": {},
     "output_type": "execute_result"
    }
   ],
   "source": [
    "# train the model\n",
    "dtc.fit(x_train1,y_train1)"
   ]
  },
  {
   "cell_type": "code",
   "execution_count": 57,
   "metadata": {},
   "outputs": [],
   "source": [
    "#create object\n",
    "dtc=DecisionTreeClassifier(min_samples_leaf=45,criterion=\"entropy\") "
   ]
  },
  {
   "cell_type": "code",
   "execution_count": 58,
   "metadata": {},
   "outputs": [
    {
     "data": {
      "text/plain": [
       "DecisionTreeClassifier(criterion='entropy', min_samples_leaf=45)"
      ]
     },
     "execution_count": 58,
     "metadata": {},
     "output_type": "execute_result"
    }
   ],
   "source": [
    "dtc.fit(x_test1,y_test1)"
   ]
  },
  {
   "cell_type": "code",
   "execution_count": 59,
   "metadata": {},
   "outputs": [],
   "source": [
    "#Test the model\n",
    "y_pred=dtc.predict(x_test1)"
   ]
  },
  {
   "cell_type": "code",
   "execution_count": 60,
   "metadata": {},
   "outputs": [
    {
     "name": "stdout",
     "output_type": "stream",
     "text": [
      "              precision    recall  f1-score   support\n",
      "\n",
      "           0       1.00      1.00      1.00     85160\n",
      "           1       1.00      1.00      1.00     85456\n",
      "\n",
      "    accuracy                           1.00    170616\n",
      "   macro avg       1.00      1.00      1.00    170616\n",
      "weighted avg       1.00      1.00      1.00    170616\n",
      "\n"
     ]
    }
   ],
   "source": [
    "# checking for classification report \n",
    "print(classification_report(y_pred,y_test1))"
   ]
  },
  {
   "cell_type": "code",
   "execution_count": 61,
   "metadata": {},
   "outputs": [],
   "source": [
    "#create object\n",
    "dtc=DecisionTreeClassifier(max_depth=5,criterion=\"entropy\") "
   ]
  },
  {
   "cell_type": "code",
   "execution_count": 62,
   "metadata": {},
   "outputs": [
    {
     "data": {
      "text/plain": [
       "DecisionTreeClassifier(criterion='entropy', max_depth=5)"
      ]
     },
     "execution_count": 62,
     "metadata": {},
     "output_type": "execute_result"
    }
   ],
   "source": [
    "# train the model\n",
    "dtc.fit(x_train1,y_train1)"
   ]
  },
  {
   "cell_type": "code",
   "execution_count": 63,
   "metadata": {},
   "outputs": [],
   "source": [
    "#create object\n",
    "dtc=DecisionTreeClassifier(max_depth=5,criterion=\"entropy\") "
   ]
  },
  {
   "cell_type": "code",
   "execution_count": 64,
   "metadata": {},
   "outputs": [
    {
     "data": {
      "text/plain": [
       "DecisionTreeClassifier(criterion='entropy', max_depth=5)"
      ]
     },
     "execution_count": 64,
     "metadata": {},
     "output_type": "execute_result"
    }
   ],
   "source": [
    "dtc.fit(x_test1,y_test1)"
   ]
  },
  {
   "cell_type": "code",
   "execution_count": 65,
   "metadata": {},
   "outputs": [],
   "source": [
    "#Test the model\n",
    "y_pred=dtc.predict(x_test1)"
   ]
  },
  {
   "cell_type": "code",
   "execution_count": 66,
   "metadata": {},
   "outputs": [
    {
     "name": "stdout",
     "output_type": "stream",
     "text": [
      "              precision    recall  f1-score   support\n",
      "\n",
      "           0       0.98      1.00      0.99     84015\n",
      "           1       1.00      0.99      0.99     86601\n",
      "\n",
      "    accuracy                           0.99    170616\n",
      "   macro avg       0.99      0.99      0.99    170616\n",
      "weighted avg       0.99      0.99      0.99    170616\n",
      "\n"
     ]
    }
   ],
   "source": [
    "# checking for classification report \n",
    "print(classification_report(y_pred,y_test1))"
   ]
  },
  {
   "cell_type": "code",
   "execution_count": 67,
   "metadata": {},
   "outputs": [
    {
     "data": {
      "text/plain": [
       "0    199007\n",
       "1       357\n",
       "Name: Class, dtype: int64"
      ]
     },
     "execution_count": 67,
     "metadata": {},
     "output_type": "execute_result"
    }
   ],
   "source": [
    "#before apply randomundersampler\n",
    "pd.Series(y_train).value_counts() #check if not balance "
   ]
  },
  {
   "cell_type": "code",
   "execution_count": 68,
   "metadata": {},
   "outputs": [],
   "source": [
    "#apply randomundersampling for balance\n",
    "x_train2,y_train2=rus.fit_resample(x_train,y_train)"
   ]
  },
  {
   "cell_type": "code",
   "execution_count": 69,
   "metadata": {},
   "outputs": [
    {
     "data": {
      "text/plain": [
       "LogisticRegression()"
      ]
     },
     "execution_count": 69,
     "metadata": {},
     "output_type": "execute_result"
    }
   ],
   "source": [
    "# train the sample\n",
    "lr.fit(x_train2,y_train2)"
   ]
  },
  {
   "cell_type": "code",
   "execution_count": 70,
   "metadata": {},
   "outputs": [
    {
     "data": {
      "text/plain": [
       "1    357\n",
       "0    357\n",
       "Name: Class, dtype: int64"
      ]
     },
     "execution_count": 70,
     "metadata": {},
     "output_type": "execute_result"
    }
   ],
   "source": [
    "#after apply randomundersampler\n",
    "pd.Series(y_train2).value_counts()#check if not balance "
   ]
  },
  {
   "cell_type": "code",
   "execution_count": 71,
   "metadata": {},
   "outputs": [
    {
     "data": {
      "text/plain": [
       "0    85308\n",
       "1      135\n",
       "Name: Class, dtype: int64"
      ]
     },
     "execution_count": 71,
     "metadata": {},
     "output_type": "execute_result"
    }
   ],
   "source": [
    "#before apply randomundersampler\n",
    "pd.Series(y_test).value_counts()#check if not balance "
   ]
  },
  {
   "cell_type": "code",
   "execution_count": 72,
   "metadata": {},
   "outputs": [],
   "source": [
    "#apply randomundersampling for balance\n",
    "x_test2,y_test2=rus.fit_resample(x_test,y_test)"
   ]
  },
  {
   "cell_type": "code",
   "execution_count": 73,
   "metadata": {},
   "outputs": [
    {
     "data": {
      "text/plain": [
       "LogisticRegression()"
      ]
     },
     "execution_count": 73,
     "metadata": {},
     "output_type": "execute_result"
    }
   ],
   "source": [
    "lr.fit(x_test2,y_test2)"
   ]
  },
  {
   "cell_type": "code",
   "execution_count": 74,
   "metadata": {},
   "outputs": [],
   "source": [
    "#Test the model\n",
    "y_pred1=lr.predict(x_test2)"
   ]
  },
  {
   "cell_type": "code",
   "execution_count": 75,
   "metadata": {},
   "outputs": [
    {
     "name": "stdout",
     "output_type": "stream",
     "text": [
      "              precision    recall  f1-score   support\n",
      "\n",
      "           0       0.96      0.92      0.94       140\n",
      "           1       0.92      0.95      0.94       130\n",
      "\n",
      "    accuracy                           0.94       270\n",
      "   macro avg       0.94      0.94      0.94       270\n",
      "weighted avg       0.94      0.94      0.94       270\n",
      "\n"
     ]
    }
   ],
   "source": [
    "# checking for classification report \n",
    "print(classification_report(y_pred1,y_test2) )"
   ]
  },
  {
   "cell_type": "code",
   "execution_count": 76,
   "metadata": {},
   "outputs": [],
   "source": [
    "#create object of dtc max_depth\n",
    "dtc=DecisionTreeClassifier(max_depth=5) "
   ]
  },
  {
   "cell_type": "code",
   "execution_count": 77,
   "metadata": {},
   "outputs": [
    {
     "data": {
      "text/plain": [
       "DecisionTreeClassifier(max_depth=5)"
      ]
     },
     "execution_count": 77,
     "metadata": {},
     "output_type": "execute_result"
    }
   ],
   "source": [
    "# train the model\n",
    "dtc.fit(x_train2,y_train2)"
   ]
  },
  {
   "cell_type": "code",
   "execution_count": 78,
   "metadata": {},
   "outputs": [],
   "source": [
    "#create object of dtc max_depth\n",
    "dtc=DecisionTreeClassifier(max_depth=5) "
   ]
  },
  {
   "cell_type": "code",
   "execution_count": 79,
   "metadata": {},
   "outputs": [
    {
     "data": {
      "text/plain": [
       "DecisionTreeClassifier(max_depth=5)"
      ]
     },
     "execution_count": 79,
     "metadata": {},
     "output_type": "execute_result"
    }
   ],
   "source": [
    "# test the model\n",
    "dtc.fit(x_test2,y_test2)"
   ]
  },
  {
   "cell_type": "code",
   "execution_count": 80,
   "metadata": {},
   "outputs": [],
   "source": [
    "#Test the model\n",
    "y_pred1=dtc.predict(x_test2)"
   ]
  },
  {
   "cell_type": "code",
   "execution_count": 81,
   "metadata": {},
   "outputs": [
    {
     "name": "stdout",
     "output_type": "stream",
     "text": [
      "              precision    recall  f1-score   support\n",
      "\n",
      "           0       1.00      0.99      1.00       136\n",
      "           1       0.99      1.00      1.00       134\n",
      "\n",
      "    accuracy                           1.00       270\n",
      "   macro avg       1.00      1.00      1.00       270\n",
      "weighted avg       1.00      1.00      1.00       270\n",
      "\n"
     ]
    }
   ],
   "source": [
    "# checking for classification report \n",
    "print(classification_report(y_pred1,y_test2))"
   ]
  },
  {
   "cell_type": "code",
   "execution_count": 82,
   "metadata": {},
   "outputs": [],
   "source": [
    "#create object\n",
    "dtc=DecisionTreeClassifier(min_samples_leaf=45) "
   ]
  },
  {
   "cell_type": "code",
   "execution_count": 83,
   "metadata": {},
   "outputs": [
    {
     "data": {
      "text/plain": [
       "DecisionTreeClassifier(min_samples_leaf=45)"
      ]
     },
     "execution_count": 83,
     "metadata": {},
     "output_type": "execute_result"
    }
   ],
   "source": [
    "# train the model\n",
    "dtc.fit(x_train2,y_train2)"
   ]
  },
  {
   "cell_type": "code",
   "execution_count": 84,
   "metadata": {},
   "outputs": [],
   "source": [
    "#create object\n",
    "dtc=DecisionTreeClassifier(min_samples_leaf=45) "
   ]
  },
  {
   "cell_type": "code",
   "execution_count": 85,
   "metadata": {},
   "outputs": [
    {
     "data": {
      "text/plain": [
       "DecisionTreeClassifier(min_samples_leaf=45)"
      ]
     },
     "execution_count": 85,
     "metadata": {},
     "output_type": "execute_result"
    }
   ],
   "source": [
    "dtc.fit(x_test2,y_test2)"
   ]
  },
  {
   "cell_type": "code",
   "execution_count": 86,
   "metadata": {},
   "outputs": [],
   "source": [
    "#Test the model\n",
    "y_pred1=dtc.predict(x_test2)"
   ]
  },
  {
   "cell_type": "code",
   "execution_count": 87,
   "metadata": {},
   "outputs": [
    {
     "name": "stdout",
     "output_type": "stream",
     "text": [
      "              precision    recall  f1-score   support\n",
      "\n",
      "           0       0.97      0.88      0.92       149\n",
      "           1       0.87      0.97      0.91       121\n",
      "\n",
      "    accuracy                           0.92       270\n",
      "   macro avg       0.92      0.92      0.92       270\n",
      "weighted avg       0.92      0.92      0.92       270\n",
      "\n"
     ]
    }
   ],
   "source": [
    "# checking for classification report \n",
    "print(classification_report(y_pred1,y_test2))"
   ]
  },
  {
   "cell_type": "code",
   "execution_count": 88,
   "metadata": {},
   "outputs": [],
   "source": [
    "#create object\n",
    "dtc=DecisionTreeClassifier(min_samples_leaf=45,criterion=\"entropy\") "
   ]
  },
  {
   "cell_type": "code",
   "execution_count": 89,
   "metadata": {},
   "outputs": [
    {
     "data": {
      "text/plain": [
       "DecisionTreeClassifier(criterion='entropy', min_samples_leaf=45)"
      ]
     },
     "execution_count": 89,
     "metadata": {},
     "output_type": "execute_result"
    }
   ],
   "source": [
    "# train the model\n",
    "dtc.fit(x_train2,y_train2)"
   ]
  },
  {
   "cell_type": "code",
   "execution_count": 90,
   "metadata": {},
   "outputs": [],
   "source": [
    "#create object\n",
    "dtc=DecisionTreeClassifier(min_samples_leaf=45,criterion=\"entropy\")"
   ]
  },
  {
   "cell_type": "code",
   "execution_count": 91,
   "metadata": {},
   "outputs": [
    {
     "data": {
      "text/plain": [
       "DecisionTreeClassifier(criterion='entropy', min_samples_leaf=45)"
      ]
     },
     "execution_count": 91,
     "metadata": {},
     "output_type": "execute_result"
    }
   ],
   "source": [
    "dtc.fit(x_test2,y_test2)"
   ]
  },
  {
   "cell_type": "code",
   "execution_count": 92,
   "metadata": {},
   "outputs": [],
   "source": [
    "#Test the model\n",
    "y_pred1=dtc.predict(x_test2)"
   ]
  },
  {
   "cell_type": "code",
   "execution_count": 93,
   "metadata": {},
   "outputs": [
    {
     "name": "stdout",
     "output_type": "stream",
     "text": [
      "              precision    recall  f1-score   support\n",
      "\n",
      "           0       0.97      0.88      0.92       149\n",
      "           1       0.87      0.97      0.91       121\n",
      "\n",
      "    accuracy                           0.92       270\n",
      "   macro avg       0.92      0.92      0.92       270\n",
      "weighted avg       0.92      0.92      0.92       270\n",
      "\n"
     ]
    }
   ],
   "source": [
    "# checking for classification report \n",
    "print(classification_report(y_pred1,y_test2))"
   ]
  },
  {
   "cell_type": "code",
   "execution_count": 94,
   "metadata": {},
   "outputs": [],
   "source": [
    "#create object\n",
    "dtc=DecisionTreeClassifier(max_depth=5,criterion=\"entropy\") "
   ]
  },
  {
   "cell_type": "code",
   "execution_count": 95,
   "metadata": {},
   "outputs": [
    {
     "data": {
      "text/plain": [
       "DecisionTreeClassifier(criterion='entropy', max_depth=5)"
      ]
     },
     "execution_count": 95,
     "metadata": {},
     "output_type": "execute_result"
    }
   ],
   "source": [
    "# train the model\n",
    "dtc.fit(x_train2,y_train2)"
   ]
  },
  {
   "cell_type": "code",
   "execution_count": 96,
   "metadata": {},
   "outputs": [],
   "source": [
    "#create object\n",
    "dtc=DecisionTreeClassifier(max_depth=5,criterion=\"entropy\")"
   ]
  },
  {
   "cell_type": "code",
   "execution_count": 97,
   "metadata": {},
   "outputs": [
    {
     "data": {
      "text/plain": [
       "DecisionTreeClassifier(criterion='entropy', max_depth=5)"
      ]
     },
     "execution_count": 97,
     "metadata": {},
     "output_type": "execute_result"
    }
   ],
   "source": [
    "dtc.fit(x_test2,y_test2)"
   ]
  },
  {
   "cell_type": "code",
   "execution_count": 98,
   "metadata": {},
   "outputs": [],
   "source": [
    "#Test the model\n",
    "y_pred1=dtc.predict(x_test2)"
   ]
  },
  {
   "cell_type": "code",
   "execution_count": 99,
   "metadata": {},
   "outputs": [
    {
     "name": "stdout",
     "output_type": "stream",
     "text": [
      "              precision    recall  f1-score   support\n",
      "\n",
      "           0       1.00      1.00      1.00       135\n",
      "           1       1.00      1.00      1.00       135\n",
      "\n",
      "    accuracy                           1.00       270\n",
      "   macro avg       1.00      1.00      1.00       270\n",
      "weighted avg       1.00      1.00      1.00       270\n",
      "\n"
     ]
    }
   ],
   "source": [
    "# checking for classification report \n",
    "print(classification_report(y_pred1,y_test2))"
   ]
  },
  {
   "cell_type": "code",
   "execution_count": 100,
   "metadata": {},
   "outputs": [],
   "source": [
    "#after appling both the sampling techniques RandomoverSampler is best for these these dataset "
   ]
  },
  {
   "cell_type": "code",
   "execution_count": 101,
   "metadata": {},
   "outputs": [],
   "source": [
    "#creating function\n",
    "def create_model(model):\n",
    "    model.fit(x_train1,y_train1)\n",
    "    y_pred=model.predict(x_test1)\n",
    "    print(classification_report(y_test1,y_pred))\n",
    "    print(\"confusion_matrix\")\n",
    "    print(confusion_matrix(y_test1,y_pred))\n",
    "    return model"
   ]
  },
  {
   "cell_type": "code",
   "execution_count": 102,
   "metadata": {},
   "outputs": [],
   "source": [
    "# create object for logisticregression \n",
    "lr=LogisticRegression() "
   ]
  },
  {
   "cell_type": "code",
   "execution_count": 103,
   "metadata": {},
   "outputs": [
    {
     "name": "stdout",
     "output_type": "stream",
     "text": [
      "              precision    recall  f1-score   support\n",
      "\n",
      "           0       0.89      0.97      0.93     85308\n",
      "           1       0.97      0.88      0.92     85308\n",
      "\n",
      "    accuracy                           0.93    170616\n",
      "   macro avg       0.93      0.93      0.93    170616\n",
      "weighted avg       0.93      0.93      0.93    170616\n",
      "\n",
      "confusion_matrix\n",
      "[[82868  2440]\n",
      " [10033 75275]]\n"
     ]
    }
   ],
   "source": [
    "#calling create_model\n",
    "lr=create_model(lr) "
   ]
  },
  {
   "cell_type": "code",
   "execution_count": 104,
   "metadata": {},
   "outputs": [],
   "source": [
    "# create object for DecisionTreeClassifier \n",
    "dt=DecisionTreeClassifier()"
   ]
  },
  {
   "cell_type": "code",
   "execution_count": 105,
   "metadata": {},
   "outputs": [
    {
     "name": "stdout",
     "output_type": "stream",
     "text": [
      "              precision    recall  f1-score   support\n",
      "\n",
      "           0       0.75      1.00      0.86     85308\n",
      "           1       1.00      0.67      0.80     85308\n",
      "\n",
      "    accuracy                           0.83    170616\n",
      "   macro avg       0.88      0.83      0.83    170616\n",
      "weighted avg       0.88      0.83      0.83    170616\n",
      "\n",
      "confusion_matrix\n",
      "[[85261    47]\n",
      " [28184 57124]]\n"
     ]
    }
   ],
   "source": [
    "# create object\n",
    "dt=create_model(dt) "
   ]
  },
  {
   "cell_type": "code",
   "execution_count": 106,
   "metadata": {},
   "outputs": [],
   "source": [
    "# create object for DecisionTreeClassifier gini index\n",
    "dt=DecisionTreeClassifier(max_depth=5)"
   ]
  },
  {
   "cell_type": "code",
   "execution_count": 107,
   "metadata": {},
   "outputs": [
    {
     "name": "stdout",
     "output_type": "stream",
     "text": [
      "              precision    recall  f1-score   support\n",
      "\n",
      "           0       0.86      0.99      0.92     85308\n",
      "           1       0.99      0.83      0.91     85308\n",
      "\n",
      "    accuracy                           0.91    170616\n",
      "   macro avg       0.92      0.91      0.91    170616\n",
      "weighted avg       0.92      0.91      0.91    170616\n",
      "\n",
      "confusion_matrix\n",
      "[[84785   523]\n",
      " [14367 70941]]\n"
     ]
    }
   ],
   "source": [
    "# calling create_model\n",
    "dt=create_model(dt) "
   ]
  },
  {
   "cell_type": "code",
   "execution_count": 108,
   "metadata": {},
   "outputs": [],
   "source": [
    "# create object for DecisionTreeClassifier gini index\n",
    "dt=DecisionTreeClassifier(min_samples_leaf=45)"
   ]
  },
  {
   "cell_type": "code",
   "execution_count": 109,
   "metadata": {},
   "outputs": [
    {
     "name": "stdout",
     "output_type": "stream",
     "text": [
      "              precision    recall  f1-score   support\n",
      "\n",
      "           0       0.84      1.00      0.91     85308\n",
      "           1       1.00      0.81      0.89     85308\n",
      "\n",
      "    accuracy                           0.90    170616\n",
      "   macro avg       0.92      0.90      0.90    170616\n",
      "weighted avg       0.92      0.90      0.90    170616\n",
      "\n",
      "confusion_matrix\n",
      "[[85119   189]\n",
      " [16258 69050]]\n"
     ]
    }
   ],
   "source": [
    "# calling create_model\n",
    "dt=create_model(dt) "
   ]
  },
  {
   "cell_type": "code",
   "execution_count": 110,
   "metadata": {},
   "outputs": [],
   "source": [
    "# create object for DecisionTreeClassifier entropy\n",
    "dt=DecisionTreeClassifier(criterion=\"entropy\",max_depth=5)"
   ]
  },
  {
   "cell_type": "code",
   "execution_count": 111,
   "metadata": {},
   "outputs": [
    {
     "name": "stdout",
     "output_type": "stream",
     "text": [
      "              precision    recall  f1-score   support\n",
      "\n",
      "           0       0.87      0.97      0.92     85308\n",
      "           1       0.97      0.86      0.91     85308\n",
      "\n",
      "    accuracy                           0.91    170616\n",
      "   macro avg       0.92      0.91      0.91    170616\n",
      "weighted avg       0.92      0.91      0.91    170616\n",
      "\n",
      "confusion_matrix\n",
      "[[82690  2618]\n",
      " [11886 73422]]\n"
     ]
    }
   ],
   "source": [
    "# calling create_model\n",
    "dt=create_model(dt) "
   ]
  },
  {
   "cell_type": "code",
   "execution_count": 112,
   "metadata": {},
   "outputs": [],
   "source": [
    "# create object for DecisionTreeClassifier entropy\n",
    "dt=DecisionTreeClassifier(criterion=\"entropy\",min_samples_leaf=45)"
   ]
  },
  {
   "cell_type": "code",
   "execution_count": 113,
   "metadata": {},
   "outputs": [
    {
     "name": "stdout",
     "output_type": "stream",
     "text": [
      "              precision    recall  f1-score   support\n",
      "\n",
      "           0       0.83      1.00      0.91     85308\n",
      "           1       1.00      0.80      0.89     85308\n",
      "\n",
      "    accuracy                           0.90    170616\n",
      "   macro avg       0.92      0.90      0.90    170616\n",
      "weighted avg       0.92      0.90      0.90    170616\n",
      "\n",
      "confusion_matrix\n",
      "[[85127   181]\n",
      " [16860 68448]]\n"
     ]
    }
   ],
   "source": [
    "# calling create_model\n",
    "dt=create_model(dt) "
   ]
  },
  {
   "cell_type": "code",
   "execution_count": 114,
   "metadata": {},
   "outputs": [],
   "source": [
    "# create object for linear supportvectormachine\n",
    "dt=LinearSVC(random_state=1)"
   ]
  },
  {
   "cell_type": "code",
   "execution_count": 115,
   "metadata": {},
   "outputs": [
    {
     "name": "stdout",
     "output_type": "stream",
     "text": [
      "              precision    recall  f1-score   support\n",
      "\n",
      "           0       0.82      0.97      0.89     85308\n",
      "           1       0.97      0.79      0.87     85308\n",
      "\n",
      "    accuracy                           0.88    170616\n",
      "   macro avg       0.90      0.88      0.88    170616\n",
      "weighted avg       0.90      0.88      0.88    170616\n",
      "\n",
      "confusion_matrix\n",
      "[[83112  2196]\n",
      " [17662 67646]]\n"
     ]
    }
   ],
   "source": [
    "# calling create_model\n",
    "dt=create_model(dt)"
   ]
  },
  {
   "cell_type": "code",
   "execution_count": 116,
   "metadata": {},
   "outputs": [],
   "source": [
    "# create object for linear supportvectormachine\n",
    "#Soft Margin\n",
    "#add some error on training time set error 0.01\n",
    "dt=LinearSVC(random_state=1,C=0.01)"
   ]
  },
  {
   "cell_type": "code",
   "execution_count": 117,
   "metadata": {},
   "outputs": [
    {
     "name": "stdout",
     "output_type": "stream",
     "text": [
      "              precision    recall  f1-score   support\n",
      "\n",
      "           0       0.82      0.98      0.89     85308\n",
      "           1       0.98      0.79      0.87     85308\n",
      "\n",
      "    accuracy                           0.88    170616\n",
      "   macro avg       0.90      0.88      0.88    170616\n",
      "weighted avg       0.90      0.88      0.88    170616\n",
      "\n",
      "confusion_matrix\n",
      "[[83886  1422]\n",
      " [18273 67035]]\n"
     ]
    }
   ],
   "source": [
    "# calling create_model\n",
    "dt=create_model(dt)"
   ]
  },
  {
   "cell_type": "code",
   "execution_count": 118,
   "metadata": {},
   "outputs": [],
   "source": [
    "# Naive aggregation\n",
    "#importing class\n",
    "from sklearn.ensemble import VotingClassifier "
   ]
  },
  {
   "cell_type": "code",
   "execution_count": 119,
   "metadata": {},
   "outputs": [],
   "source": [
    "# creating objects\n",
    "lr=LogisticRegression()\n",
    "dt=DecisionTreeClassifier(max_depth=5)\n",
    "dte=DecisionTreeClassifier(max_depth=5,criterion=\"entropy\")\n",
    "dt1=DecisionTreeClassifier(min_samples_leaf=45)\n",
    "dte1=DecisionTreeClassifier(min_samples_leaf=45,criterion=\"entropy\")\n",
    "lsvc=LinearSVC(random_state=1)\n",
    "lsvc1=LinearSVC(random_state=1,C=0.01)\n"
   ]
  },
  {
   "cell_type": "code",
   "execution_count": 120,
   "metadata": {},
   "outputs": [],
   "source": [
    "#create a model list \n",
    "#(\"model name\",object of those model)\n",
    "model_list=[(\"LogisticRegression\",lr),(\"DecisionTreeClassifierMD\",dt),(\"DecisionTreeClassifierentropyMD\",dte),(\"DecisionTreeClassifierMSL\",dt1),\n",
    "           (\"DecisionTreeClassifierentropyMSL\",dte1),(\"LinearSVC\",lsvc),(\"lSVC\",lsvc1)]"
   ]
  },
  {
   "cell_type": "code",
   "execution_count": 121,
   "metadata": {},
   "outputs": [],
   "source": [
    "#create the object of VotingClassifier class \n",
    "#bydefault use hardvoting \n",
    "vc=VotingClassifier(estimators=model_list) "
   ]
  },
  {
   "cell_type": "code",
   "execution_count": 122,
   "metadata": {},
   "outputs": [
    {
     "name": "stdout",
     "output_type": "stream",
     "text": [
      "              precision    recall  f1-score   support\n",
      "\n",
      "           0       0.85      1.00      0.92     85308\n",
      "           1       1.00      0.82      0.90     85308\n",
      "\n",
      "    accuracy                           0.91    170616\n",
      "   macro avg       0.92      0.91      0.91    170616\n",
      "weighted avg       0.92      0.91      0.91    170616\n",
      "\n",
      "confusion_matrix\n",
      "[[85121   187]\n",
      " [15038 70270]]\n"
     ]
    }
   ],
   "source": [
    "# calling create_model\n",
    "vc=create_model(vc) "
   ]
  },
  {
   "cell_type": "code",
   "execution_count": 123,
   "metadata": {},
   "outputs": [],
   "source": [
    "# creating objects\n",
    "lr=LogisticRegression()\n",
    "dt=DecisionTreeClassifier(max_depth=5)\n",
    "dte=DecisionTreeClassifier(max_depth=5,criterion=\"entropy\")\n",
    "dt1=DecisionTreeClassifier(min_samples_leaf=45)\n",
    "dte1=DecisionTreeClassifier(min_samples_leaf=45,criterion=\"entropy\")\n"
   ]
  },
  {
   "cell_type": "code",
   "execution_count": 124,
   "metadata": {},
   "outputs": [],
   "source": [
    "#create a model list \n",
    "#(\"model name\",object of those model)\n",
    "model_list=[(\"LogisticRegression\",lr),(\"DecisionTreeClassifierMD\",dt),(\"DecisionTreeClassifierentropyMD\",dte),(\"DecisionTreeClassifierMSL\",dt1),\n",
    "           (\"DecisionTreeClassifierentropyMSL\",dte1)]"
   ]
  },
  {
   "cell_type": "code",
   "execution_count": 125,
   "metadata": {},
   "outputs": [],
   "source": [
    "#create the object of VotingClassifier class \n",
    "#softvoting \n",
    "vc2=VotingClassifier(estimators=model_list,voting=\"soft\")"
   ]
  },
  {
   "cell_type": "code",
   "execution_count": 126,
   "metadata": {},
   "outputs": [
    {
     "name": "stdout",
     "output_type": "stream",
     "text": [
      "              precision    recall  f1-score   support\n",
      "\n",
      "           0       0.84      1.00      0.92     85308\n",
      "           1       1.00      0.82      0.90     85308\n",
      "\n",
      "    accuracy                           0.91    170616\n",
      "   macro avg       0.92      0.91      0.91    170616\n",
      "weighted avg       0.92      0.91      0.91    170616\n",
      "\n",
      "confusion_matrix\n",
      "[[85164   144]\n",
      " [15642 69666]]\n"
     ]
    }
   ],
   "source": [
    "# calling create_model\n",
    "vc2=create_model(vc2) "
   ]
  },
  {
   "cell_type": "code",
   "execution_count": 127,
   "metadata": {},
   "outputs": [],
   "source": [
    "# importing Bagginglassifier\n",
    "from sklearn.ensemble import BaggingClassifier "
   ]
  },
  {
   "cell_type": "code",
   "execution_count": 128,
   "metadata": {},
   "outputs": [],
   "source": [
    "#Create object of BaggingClassifier class\n",
    "bc=BaggingClassifier(LogisticRegression(),n_estimators=12,random_state=1) "
   ]
  },
  {
   "cell_type": "code",
   "execution_count": 129,
   "metadata": {},
   "outputs": [
    {
     "name": "stdout",
     "output_type": "stream",
     "text": [
      "              precision    recall  f1-score   support\n",
      "\n",
      "           0       0.87      0.98      0.92     85308\n",
      "           1       0.98      0.85      0.91     85308\n",
      "\n",
      "    accuracy                           0.92    170616\n",
      "   macro avg       0.92      0.92      0.92    170616\n",
      "weighted avg       0.92      0.92      0.92    170616\n",
      "\n",
      "confusion_matrix\n",
      "[[83476  1832]\n",
      " [12504 72804]]\n"
     ]
    }
   ],
   "source": [
    "# calling create_model\n",
    "bc=create_model(bc) "
   ]
  },
  {
   "cell_type": "code",
   "execution_count": 130,
   "metadata": {},
   "outputs": [],
   "source": [
    "#Create object of BaggingClassifier class dtc gini index\n",
    "bc=BaggingClassifier(DecisionTreeClassifier(),n_estimators=12,random_state=1) "
   ]
  },
  {
   "cell_type": "code",
   "execution_count": 131,
   "metadata": {},
   "outputs": [
    {
     "name": "stdout",
     "output_type": "stream",
     "text": [
      "              precision    recall  f1-score   support\n",
      "\n",
      "           0       0.82      1.00      0.90     85308\n",
      "           1       1.00      0.78      0.88     85308\n",
      "\n",
      "    accuracy                           0.89    170616\n",
      "   macro avg       0.91      0.89      0.89    170616\n",
      "weighted avg       0.91      0.89      0.89    170616\n",
      "\n",
      "confusion_matrix\n",
      "[[85268    40]\n",
      " [18772 66536]]\n"
     ]
    }
   ],
   "source": [
    "# calling create_model\n",
    "bc=create_model(bc) "
   ]
  },
  {
   "cell_type": "code",
   "execution_count": 132,
   "metadata": {},
   "outputs": [],
   "source": [
    "#Create object of BaggingClassifier class dtc gini index\n",
    "bc=BaggingClassifier(DecisionTreeClassifier(max_depth=5),n_estimators=12,random_state=1) "
   ]
  },
  {
   "cell_type": "code",
   "execution_count": 133,
   "metadata": {},
   "outputs": [
    {
     "name": "stdout",
     "output_type": "stream",
     "text": [
      "              precision    recall  f1-score   support\n",
      "\n",
      "           0       0.86      0.99      0.92     85308\n",
      "           1       0.99      0.83      0.91     85308\n",
      "\n",
      "    accuracy                           0.91    170616\n",
      "   macro avg       0.92      0.91      0.91    170616\n",
      "weighted avg       0.92      0.91      0.91    170616\n",
      "\n",
      "confusion_matrix\n",
      "[[84784   524]\n",
      " [14367 70941]]\n"
     ]
    }
   ],
   "source": [
    "# calling create_model\n",
    "bc=create_model(bc) "
   ]
  },
  {
   "cell_type": "code",
   "execution_count": 134,
   "metadata": {},
   "outputs": [],
   "source": [
    "#Create object of BaggingClassifier class dtc gini index\n",
    "bc=BaggingClassifier(DecisionTreeClassifier(min_samples_leaf=45),n_estimators=12,random_state=1) "
   ]
  },
  {
   "cell_type": "code",
   "execution_count": 135,
   "metadata": {},
   "outputs": [
    {
     "name": "stdout",
     "output_type": "stream",
     "text": [
      "              precision    recall  f1-score   support\n",
      "\n",
      "           0       0.85      1.00      0.92     85308\n",
      "           1       1.00      0.82      0.90     85308\n",
      "\n",
      "    accuracy                           0.91    170616\n",
      "   macro avg       0.92      0.91      0.91    170616\n",
      "weighted avg       0.92      0.91      0.91    170616\n",
      "\n",
      "confusion_matrix\n",
      "[[85080   228]\n",
      " [15001 70307]]\n"
     ]
    }
   ],
   "source": [
    "# calling create_model\n",
    "bc=create_model(bc) "
   ]
  },
  {
   "cell_type": "code",
   "execution_count": 136,
   "metadata": {},
   "outputs": [],
   "source": [
    "#Create object of BaggingClassifier class dtc entropy\n",
    "bc=BaggingClassifier(DecisionTreeClassifier(min_samples_leaf=45,criterion=\"entropy\"),n_estimators=12,random_state=1) "
   ]
  },
  {
   "cell_type": "code",
   "execution_count": 137,
   "metadata": {},
   "outputs": [
    {
     "name": "stdout",
     "output_type": "stream",
     "text": [
      "              precision    recall  f1-score   support\n",
      "\n",
      "           0       0.83      1.00      0.91     85308\n",
      "           1       1.00      0.80      0.89     85308\n",
      "\n",
      "    accuracy                           0.90    170616\n",
      "   macro avg       0.92      0.90      0.90    170616\n",
      "weighted avg       0.92      0.90      0.90    170616\n",
      "\n",
      "confusion_matrix\n",
      "[[85111   197]\n",
      " [16860 68448]]\n"
     ]
    }
   ],
   "source": [
    "# calling create_model\n",
    "bc=create_model(bc)"
   ]
  },
  {
   "cell_type": "code",
   "execution_count": 138,
   "metadata": {},
   "outputs": [],
   "source": [
    "#Create object of BaggingClassifier class entropy\n",
    "bc=BaggingClassifier(DecisionTreeClassifier(max_depth=5,criterion=\"entropy\"),n_estimators=12,random_state=1) "
   ]
  },
  {
   "cell_type": "code",
   "execution_count": 139,
   "metadata": {},
   "outputs": [
    {
     "name": "stdout",
     "output_type": "stream",
     "text": [
      "              precision    recall  f1-score   support\n",
      "\n",
      "           0       0.85      0.98      0.91     85308\n",
      "           1       0.97      0.83      0.90     85308\n",
      "\n",
      "    accuracy                           0.90    170616\n",
      "   macro avg       0.91      0.90      0.90    170616\n",
      "weighted avg       0.91      0.90      0.90    170616\n",
      "\n",
      "confusion_matrix\n",
      "[[83489  1819]\n",
      " [14409 70899]]\n"
     ]
    }
   ],
   "source": [
    "# calling create_model\n",
    "bc=create_model(bc)"
   ]
  },
  {
   "cell_type": "code",
   "execution_count": 140,
   "metadata": {},
   "outputs": [],
   "source": [
    "#Create object of BaggingClassifier class linear svm\n",
    "bc=BaggingClassifier(LinearSVC(random_state=1),n_estimators=12,random_state=1) "
   ]
  },
  {
   "cell_type": "code",
   "execution_count": 141,
   "metadata": {},
   "outputs": [
    {
     "name": "stdout",
     "output_type": "stream",
     "text": [
      "              precision    recall  f1-score   support\n",
      "\n",
      "           0       0.82      0.97      0.89     85308\n",
      "           1       0.97      0.79      0.87     85308\n",
      "\n",
      "    accuracy                           0.88    170616\n",
      "   macro avg       0.90      0.88      0.88    170616\n",
      "weighted avg       0.90      0.88      0.88    170616\n",
      "\n",
      "confusion_matrix\n",
      "[[83149  2159]\n",
      " [17662 67646]]\n"
     ]
    }
   ],
   "source": [
    "# calling create_model\n",
    "bc=create_model(bc)"
   ]
  },
  {
   "cell_type": "code",
   "execution_count": 142,
   "metadata": {},
   "outputs": [],
   "source": [
    "#Create object of BaggingClassifier class pasting techniques LogisticRegression \n",
    "bc=BaggingClassifier(LogisticRegression(),n_estimators=12,random_state=1,bootstrap=False) "
   ]
  },
  {
   "cell_type": "code",
   "execution_count": 143,
   "metadata": {},
   "outputs": [
    {
     "name": "stdout",
     "output_type": "stream",
     "text": [
      "              precision    recall  f1-score   support\n",
      "\n",
      "           0       0.89      0.97      0.93     85308\n",
      "           1       0.97      0.88      0.92     85308\n",
      "\n",
      "    accuracy                           0.93    170616\n",
      "   macro avg       0.93      0.93      0.93    170616\n",
      "weighted avg       0.93      0.93      0.93    170616\n",
      "\n",
      "confusion_matrix\n",
      "[[82868  2440]\n",
      " [10033 75275]]\n"
     ]
    }
   ],
   "source": [
    "# calling create_model\n",
    "bc=create_model(bc)"
   ]
  },
  {
   "cell_type": "code",
   "execution_count": 144,
   "metadata": {},
   "outputs": [],
   "source": [
    "#Create object of BaggingClassifier class pasting techniques dtc \n",
    "bc=BaggingClassifier(DecisionTreeClassifier(),n_estimators=12,random_state=1,bootstrap=False) "
   ]
  },
  {
   "cell_type": "code",
   "execution_count": 145,
   "metadata": {},
   "outputs": [
    {
     "name": "stdout",
     "output_type": "stream",
     "text": [
      "              precision    recall  f1-score   support\n",
      "\n",
      "           0       0.77      1.00      0.87     85308\n",
      "           1       1.00      0.70      0.82     85308\n",
      "\n",
      "    accuracy                           0.85    170616\n",
      "   macro avg       0.88      0.85      0.85    170616\n",
      "weighted avg       0.88      0.85      0.85    170616\n",
      "\n",
      "confusion_matrix\n",
      "[[85263    45]\n",
      " [25679 59629]]\n"
     ]
    }
   ],
   "source": [
    "# calling create_model\n",
    "bc=create_model(bc)"
   ]
  },
  {
   "cell_type": "code",
   "execution_count": 146,
   "metadata": {},
   "outputs": [],
   "source": [
    "#Create object of BaggingClassifier class pasting techniques dtc gini index\n",
    "bc=BaggingClassifier(DecisionTreeClassifier(max_depth=5),n_estimators=12,random_state=1,bootstrap=False) "
   ]
  },
  {
   "cell_type": "code",
   "execution_count": 147,
   "metadata": {},
   "outputs": [
    {
     "name": "stdout",
     "output_type": "stream",
     "text": [
      "              precision    recall  f1-score   support\n",
      "\n",
      "           0       0.86      0.99      0.92     85308\n",
      "           1       0.99      0.83      0.91     85308\n",
      "\n",
      "    accuracy                           0.91    170616\n",
      "   macro avg       0.92      0.91      0.91    170616\n",
      "weighted avg       0.92      0.91      0.91    170616\n",
      "\n",
      "confusion_matrix\n",
      "[[84785   523]\n",
      " [14367 70941]]\n"
     ]
    }
   ],
   "source": [
    "# calling create_model\n",
    "bc=create_model(bc)"
   ]
  },
  {
   "cell_type": "code",
   "execution_count": 148,
   "metadata": {},
   "outputs": [],
   "source": [
    "#Create object of BaggingClassifier class pasting techniques dtc gini index\n",
    "bc=BaggingClassifier(DecisionTreeClassifier(min_samples_leaf=45),n_estimators=12,random_state=1,bootstrap=False) "
   ]
  },
  {
   "cell_type": "code",
   "execution_count": 149,
   "metadata": {},
   "outputs": [
    {
     "name": "stdout",
     "output_type": "stream",
     "text": [
      "              precision    recall  f1-score   support\n",
      "\n",
      "           0       0.84      1.00      0.91     85308\n",
      "           1       1.00      0.82      0.90     85308\n",
      "\n",
      "    accuracy                           0.91    170616\n",
      "   macro avg       0.92      0.91      0.91    170616\n",
      "weighted avg       0.92      0.91      0.91    170616\n",
      "\n",
      "confusion_matrix\n",
      "[[85121   187]\n",
      " [15642 69666]]\n"
     ]
    }
   ],
   "source": [
    "# calling create_model\n",
    "bc=create_model(bc)"
   ]
  },
  {
   "cell_type": "code",
   "execution_count": 150,
   "metadata": {},
   "outputs": [],
   "source": [
    "#Create object of BaggingClassifier class pasting techniques dtc entropy\n",
    "bc=BaggingClassifier(DecisionTreeClassifier(min_samples_leaf=45,criterion=\"entropy\"),n_estimators=12,random_state=1,bootstrap=False)"
   ]
  },
  {
   "cell_type": "code",
   "execution_count": 151,
   "metadata": {},
   "outputs": [
    {
     "name": "stdout",
     "output_type": "stream",
     "text": [
      "              precision    recall  f1-score   support\n",
      "\n",
      "           0       0.83      1.00      0.91     85308\n",
      "           1       1.00      0.80      0.89     85308\n",
      "\n",
      "    accuracy                           0.90    170616\n",
      "   macro avg       0.92      0.90      0.90    170616\n",
      "weighted avg       0.92      0.90      0.90    170616\n",
      "\n",
      "confusion_matrix\n",
      "[[85127   181]\n",
      " [16860 68448]]\n"
     ]
    }
   ],
   "source": [
    "# calling create_model\n",
    "bc=create_model(bc)"
   ]
  },
  {
   "cell_type": "code",
   "execution_count": 152,
   "metadata": {},
   "outputs": [],
   "source": [
    "#Create object of BaggingClassifier class pasting techniques dtc entropy\n",
    "bc=BaggingClassifier(DecisionTreeClassifier(min_samples_leaf=5,criterion=\"entropy\"),n_estimators=12,random_state=1,bootstrap=False)"
   ]
  },
  {
   "cell_type": "code",
   "execution_count": 153,
   "metadata": {},
   "outputs": [
    {
     "name": "stdout",
     "output_type": "stream",
     "text": [
      "              precision    recall  f1-score   support\n",
      "\n",
      "           0       0.80      1.00      0.89     85308\n",
      "           1       1.00      0.74      0.85     85308\n",
      "\n",
      "    accuracy                           0.87    170616\n",
      "   macro avg       0.90      0.87      0.87    170616\n",
      "weighted avg       0.90      0.87      0.87    170616\n",
      "\n",
      "confusion_matrix\n",
      "[[85269    39]\n",
      " [21943 63365]]\n"
     ]
    }
   ],
   "source": [
    "# calling create_model\n",
    "bc=create_model(bc)"
   ]
  },
  {
   "cell_type": "code",
   "execution_count": 154,
   "metadata": {},
   "outputs": [],
   "source": [
    "#Create object of BaggingClassifier class linear svm \n",
    "bc=BaggingClassifier(LinearSVC(random_state=1),n_estimators=12,random_state=1,bootstrap=False) "
   ]
  },
  {
   "cell_type": "code",
   "execution_count": 155,
   "metadata": {},
   "outputs": [
    {
     "name": "stdout",
     "output_type": "stream",
     "text": [
      "              precision    recall  f1-score   support\n",
      "\n",
      "           0       0.82      0.97      0.89     85308\n",
      "           1       0.96      0.79      0.87     85308\n",
      "\n",
      "    accuracy                           0.88    170616\n",
      "   macro avg       0.89      0.88      0.88    170616\n",
      "weighted avg       0.89      0.88      0.88    170616\n",
      "\n",
      "confusion_matrix\n",
      "[[82695  2613]\n",
      " [17662 67646]]\n"
     ]
    }
   ],
   "source": [
    "# calling create_model\n",
    "bc=create_model(bc)"
   ]
  },
  {
   "cell_type": "code",
   "execution_count": 156,
   "metadata": {},
   "outputs": [],
   "source": [
    "#Random Forest Tree \n",
    "#call Random Forest Tree from package\n",
    "from sklearn.ensemble import RandomForestClassifier"
   ]
  },
  {
   "cell_type": "code",
   "execution_count": 157,
   "metadata": {},
   "outputs": [],
   "source": [
    "#Create the object of RandomForestClassifier class\n",
    "rfc=RandomForestClassifier(n_estimators=10,max_features=10,random_state=1)"
   ]
  },
  {
   "cell_type": "code",
   "execution_count": 158,
   "metadata": {},
   "outputs": [
    {
     "name": "stdout",
     "output_type": "stream",
     "text": [
      "              precision    recall  f1-score   support\n",
      "\n",
      "           0       0.81      1.00      0.90     85308\n",
      "           1       1.00      0.77      0.87     85308\n",
      "\n",
      "    accuracy                           0.89    170616\n",
      "   macro avg       0.91      0.89      0.88    170616\n",
      "weighted avg       0.91      0.89      0.88    170616\n",
      "\n",
      "confusion_matrix\n",
      "[[85296    12]\n",
      " [19424 65884]]\n"
     ]
    }
   ],
   "source": [
    "# calling create_model\n",
    "model=create_model(rfc)"
   ]
  },
  {
   "cell_type": "code",
   "execution_count": 159,
   "metadata": {},
   "outputs": [],
   "source": [
    "#call StackingClassifier\n",
    "from mlxtend.classifier import StackingClassifier"
   ]
  },
  {
   "cell_type": "code",
   "execution_count": 160,
   "metadata": {},
   "outputs": [],
   "source": [
    "#create a model list\n",
    "model_list=[lr,dt,dte,dt1,dte1,lsvc]"
   ]
  },
  {
   "cell_type": "code",
   "execution_count": 161,
   "metadata": {},
   "outputs": [],
   "source": [
    "#Create the object of StackingClassifier class and passing the no. of arguments\n",
    "sc=StackingClassifier(classifiers=model_list, meta_classifier=LogisticRegression()) "
   ]
  },
  {
   "cell_type": "code",
   "execution_count": 162,
   "metadata": {},
   "outputs": [
    {
     "name": "stdout",
     "output_type": "stream",
     "text": [
      "              precision    recall  f1-score   support\n",
      "\n",
      "           0       0.83      1.00      0.91     85308\n",
      "           1       1.00      0.79      0.89     85308\n",
      "\n",
      "    accuracy                           0.90    170616\n",
      "   macro avg       0.91      0.90      0.90    170616\n",
      "weighted avg       0.91      0.90      0.90    170616\n",
      "\n",
      "confusion_matrix\n",
      "[[85246    62]\n",
      " [17520 67788]]\n"
     ]
    }
   ],
   "source": [
    "# calling create_model\n",
    "sc=create_model(sc)"
   ]
  },
  {
   "cell_type": "code",
   "execution_count": 163,
   "metadata": {},
   "outputs": [],
   "source": [
    "#Create the object of StackingClassifier class and passing the no. of arguments\n",
    "sc=StackingClassifier(classifiers=model_list,meta_classifier=DecisionTreeClassifier(max_depth=5)) "
   ]
  },
  {
   "cell_type": "code",
   "execution_count": 164,
   "metadata": {},
   "outputs": [
    {
     "name": "stdout",
     "output_type": "stream",
     "text": [
      "              precision    recall  f1-score   support\n",
      "\n",
      "           0       0.83      1.00      0.91     85308\n",
      "           1       1.00      0.79      0.89     85308\n",
      "\n",
      "    accuracy                           0.90    170616\n",
      "   macro avg       0.91      0.90      0.90    170616\n",
      "weighted avg       0.91      0.90      0.90    170616\n",
      "\n",
      "confusion_matrix\n",
      "[[85250    58]\n",
      " [17520 67788]]\n"
     ]
    }
   ],
   "source": [
    "# calling create_model\n",
    "sc=create_model(sc)"
   ]
  },
  {
   "cell_type": "code",
   "execution_count": 165,
   "metadata": {},
   "outputs": [],
   "source": [
    "#Create the object of StackingClassifier class and passing the no. of arguments\n",
    "sc=StackingClassifier(classifiers=model_list,meta_classifier=DecisionTreeClassifier(min_samples_leaf=45)) "
   ]
  },
  {
   "cell_type": "code",
   "execution_count": 166,
   "metadata": {},
   "outputs": [
    {
     "name": "stdout",
     "output_type": "stream",
     "text": [
      "              precision    recall  f1-score   support\n",
      "\n",
      "           0       0.83      1.00      0.91     85308\n",
      "           1       1.00      0.79      0.89     85308\n",
      "\n",
      "    accuracy                           0.90    170616\n",
      "   macro avg       0.91      0.90      0.90    170616\n",
      "weighted avg       0.91      0.90      0.90    170616\n",
      "\n",
      "confusion_matrix\n",
      "[[85246    62]\n",
      " [17520 67788]]\n"
     ]
    }
   ],
   "source": [
    "# calling create_model\n",
    "sc=create_model(sc)"
   ]
  },
  {
   "cell_type": "code",
   "execution_count": 167,
   "metadata": {},
   "outputs": [],
   "source": [
    "#Create the object of StackingClassifier class and passing the no. of arguments\n",
    "sc=StackingClassifier(classifiers=model_list,meta_classifier=DecisionTreeClassifier(min_samples_leaf=45,criterion=\"entropy\")) "
   ]
  },
  {
   "cell_type": "code",
   "execution_count": 168,
   "metadata": {},
   "outputs": [
    {
     "name": "stdout",
     "output_type": "stream",
     "text": [
      "              precision    recall  f1-score   support\n",
      "\n",
      "           0       0.83      1.00      0.91     85308\n",
      "           1       1.00      0.79      0.89     85308\n",
      "\n",
      "    accuracy                           0.90    170616\n",
      "   macro avg       0.91      0.90      0.90    170616\n",
      "weighted avg       0.91      0.90      0.90    170616\n",
      "\n",
      "confusion_matrix\n",
      "[[85246    62]\n",
      " [17520 67788]]\n"
     ]
    }
   ],
   "source": [
    "# calling create_model\n",
    "sc=create_model(sc)"
   ]
  },
  {
   "cell_type": "code",
   "execution_count": 169,
   "metadata": {},
   "outputs": [],
   "source": [
    "#Create the object of StackingClassifier class and passing the no. of arguments\n",
    "sc=StackingClassifier(classifiers=model_list,meta_classifier=DecisionTreeClassifier(max_depth=5,criterion=\"entropy\")) "
   ]
  },
  {
   "cell_type": "code",
   "execution_count": 170,
   "metadata": {},
   "outputs": [
    {
     "name": "stdout",
     "output_type": "stream",
     "text": [
      "              precision    recall  f1-score   support\n",
      "\n",
      "           0       0.83      1.00      0.91     85308\n",
      "           1       1.00      0.79      0.89     85308\n",
      "\n",
      "    accuracy                           0.90    170616\n",
      "   macro avg       0.91      0.90      0.90    170616\n",
      "weighted avg       0.91      0.90      0.90    170616\n",
      "\n",
      "confusion_matrix\n",
      "[[85249    59]\n",
      " [17520 67788]]\n"
     ]
    }
   ],
   "source": [
    "# calling create_model\n",
    "sc=create_model(sc)"
   ]
  },
  {
   "cell_type": "code",
   "execution_count": 171,
   "metadata": {},
   "outputs": [],
   "source": [
    "#Create the object of StackingClassifier class and passing the no. of arguments\n",
    "sc=StackingClassifier(classifiers=model_list,meta_classifier=LinearSVC(random_state=1)) "
   ]
  },
  {
   "cell_type": "code",
   "execution_count": 172,
   "metadata": {},
   "outputs": [
    {
     "name": "stdout",
     "output_type": "stream",
     "text": [
      "              precision    recall  f1-score   support\n",
      "\n",
      "           0       0.83      1.00      0.91     85308\n",
      "           1       1.00      0.79      0.89     85308\n",
      "\n",
      "    accuracy                           0.90    170616\n",
      "   macro avg       0.91      0.90      0.90    170616\n",
      "weighted avg       0.91      0.90      0.90    170616\n",
      "\n",
      "confusion_matrix\n",
      "[[85246    62]\n",
      " [17520 67788]]\n"
     ]
    }
   ],
   "source": [
    "# calling create_model\n",
    "sc=create_model(sc)"
   ]
  },
  {
   "cell_type": "code",
   "execution_count": 194,
   "metadata": {},
   "outputs": [],
   "source": [
    "#AdaBoostClassifier  inbuilt class for ADA Boost , call this class from sklearn\n",
    "#.ensemble package\n",
    "from sklearn.ensemble import AdaBoostClassifier "
   ]
  },
  {
   "cell_type": "code",
   "execution_count": 197,
   "metadata": {},
   "outputs": [],
   "source": [
    "#call function\n",
    "ada=AdaBoostClassifier(n_estimators=25)"
   ]
  },
  {
   "cell_type": "code",
   "execution_count": 198,
   "metadata": {},
   "outputs": [
    {
     "name": "stdout",
     "output_type": "stream",
     "text": [
      "              precision    recall  f1-score   support\n",
      "\n",
      "           0       0.89      0.98      0.93     85308\n",
      "           1       0.97      0.88      0.93     85308\n",
      "\n",
      "    accuracy                           0.93    170616\n",
      "   macro avg       0.93      0.93      0.93    170616\n",
      "weighted avg       0.93      0.93      0.93    170616\n",
      "\n",
      "confusion_matrix\n",
      "[[83214  2094]\n",
      " [10039 75269]]\n"
     ]
    }
   ],
   "source": [
    "# calling create_model\n",
    "model=create_model(ada)"
   ]
  },
  {
   "cell_type": "code",
   "execution_count": 199,
   "metadata": {},
   "outputs": [],
   "source": [
    "#call GradientBoostingClassifier class from following package\n",
    "from sklearn.ensemble import GradientBoostingClassifier"
   ]
  },
  {
   "cell_type": "code",
   "execution_count": 177,
   "metadata": {},
   "outputs": [],
   "source": [
    "#create object of GradientBoostingClassifier class\n",
    "gbc=GradientBoostingClassifier(n_estimators=75)"
   ]
  },
  {
   "cell_type": "code",
   "execution_count": 178,
   "metadata": {},
   "outputs": [
    {
     "name": "stdout",
     "output_type": "stream",
     "text": [
      "              precision    recall  f1-score   support\n",
      "\n",
      "           0       0.88      0.99      0.93     85308\n",
      "           1       0.99      0.86      0.92     85308\n",
      "\n",
      "    accuracy                           0.93    170616\n",
      "   macro avg       0.93      0.93      0.93    170616\n",
      "weighted avg       0.93      0.93      0.93    170616\n",
      "\n",
      "confusion_matrix\n",
      "[[84715   593]\n",
      " [11863 73445]]\n"
     ]
    }
   ],
   "source": [
    "# calling create_model\n",
    "model=create_model(gbc)"
   ]
  },
  {
   "cell_type": "code",
   "execution_count": 179,
   "metadata": {},
   "outputs": [],
   "source": [
    "#Extream Gradient Boosting  : technique of Boosting \n",
    "#This is better version of gradient boosting . . short form XGB \n",
    "# better version of Gradient Boosting : -\n",
    "#1. XG Bossting use : - Multithreading technique\n",
    "#2. It takes less memory space and faster \n",
    "#3. It is very useful to handle huge amt of data .Its deal large amount of data\n",
    "#4. Its handle outlier because have inbuilt capability\n",
    "#5. Its handle null values \n",
    "#6. Its handle automatic overfitting situation .\n",
    "#7 it differentiate the model d/dw(error)\n",
    "from xgboost import XGBClassifier"
   ]
  },
  {
   "cell_type": "code",
   "execution_count": 180,
   "metadata": {},
   "outputs": [],
   "source": [
    "#create object of XGBClassifier class and passing the parameter\n",
    "xg=XGBClassifier(n_estimators=25,reg_alpha=1)"
   ]
  },
  {
   "cell_type": "code",
   "execution_count": 181,
   "metadata": {},
   "outputs": [
    {
     "name": "stdout",
     "output_type": "stream",
     "text": [
      "[17:56:42] WARNING: C:/Users/Administrator/workspace/xgboost-win64_release_1.4.0/src/learner.cc:1095: Starting in XGBoost 1.3.0, the default evaluation metric used with the objective 'binary:logistic' was changed from 'error' to 'logloss'. Explicitly set eval_metric if you'd like to restore the old behavior.\n",
      "              precision    recall  f1-score   support\n",
      "\n",
      "           0       0.83      1.00      0.91     85308\n",
      "           1       1.00      0.79      0.89     85308\n",
      "\n",
      "    accuracy                           0.90    170616\n",
      "   macro avg       0.91      0.90      0.90    170616\n",
      "weighted avg       0.91      0.90      0.90    170616\n",
      "\n",
      "confusion_matrix\n",
      "[[85241    67]\n",
      " [17540 67768]]\n"
     ]
    }
   ],
   "source": [
    "# calling create_model\n",
    "model=create_model(xg)"
   ]
  },
  {
   "cell_type": "code",
   "execution_count": 182,
   "metadata": {},
   "outputs": [],
   "source": [
    "# after applying all the ensembling techniques ada boost has best recall and accuracy amoung all techniques"
   ]
  }
 ],
 "metadata": {
  "kernelspec": {
   "display_name": "Python 3",
   "language": "python",
   "name": "python3"
  },
  "language_info": {
   "codemirror_mode": {
    "name": "ipython",
    "version": 3
   },
   "file_extension": ".py",
   "mimetype": "text/x-python",
   "name": "python",
   "nbconvert_exporter": "python",
   "pygments_lexer": "ipython3",
   "version": "3.8.5"
  }
 },
 "nbformat": 4,
 "nbformat_minor": 4
}
